{
  "nbformat": 4,
  "nbformat_minor": 0,
  "metadata": {
    "colab": {
      "name": "taller2MairaFlorez.ipynb",
      "provenance": [],
      "collapsed_sections": [],
      "authorship_tag": "ABX9TyPzl9Os4efWQOpiCpn3chSu",
      "include_colab_link": true
    },
    "kernelspec": {
      "name": "python3",
      "display_name": "Python 3"
    },
    "language_info": {
      "name": "python"
    }
  },
  "cells": [
    {
      "cell_type": "markdown",
      "metadata": {
        "id": "view-in-github",
        "colab_type": "text"
      },
      "source": [
        "<a href=\"https://colab.research.google.com/github/maflorez08/Maira_FlorezBarreiro_KC/blob/main/taller2MairaFlorez.ipynb\" target=\"_parent\"><img src=\"https://colab.research.google.com/assets/colab-badge.svg\" alt=\"Open In Colab\"/></a>"
      ]
    },
    {
      "cell_type": "markdown",
      "metadata": {
        "id": "gZsfe9h504zJ"
      },
      "source": [
        "\n",
        "**MAIRA ALEJANDRA FLOREZ BARREIRO**\n",
        "\n",
        "**1. Numeros palíndromos:**\n",
        "\n",
        "Escriba una función que reciba un numero entero (positivo) o un String y entregue como respuesta si la entrada es o no un palíndromo."
      ]
    },
    {
      "cell_type": "markdown",
      "metadata": {
        "id": "FplHGWG22kyI"
      },
      "source": [
        "\n",
        "\n",
        "> Un palíndromo, también llamado palíndromo, palíndroma o palindroma, es una palabra o frase que se lee igual en un sentido que en otro\n",
        "\n"
      ]
    },
    {
      "cell_type": "code",
      "metadata": {
        "colab": {
          "base_uri": "https://localhost:8080/"
        },
        "id": "7A1Bz7vh4Rgz",
        "outputId": "b9662c61-6585-45d3-d2f9-316307610e9f"
      },
      "source": [
        "def palindromo(strInput):\n",
        "  listInput = list(strInput)\n",
        " \n",
        "  listInputReverse = listInput[::-1]\n",
        "\n",
        "  if listInput == listInputReverse:\n",
        "    strSalida = str(strInput) + ': Si es palíndromo'\n",
        "  else: \n",
        "    strSalida = str(strInput) + ': No es palíndromo'\n",
        "  return strSalida\n",
        "\n",
        "strInput = str(input('para saber si es o no palíndromo ,Ingrese el numero o palabra :  '))\n",
        "print(palindromo(strInput))"
      ],
      "execution_count": 9,
      "outputs": [
        {
          "output_type": "stream",
          "text": [
            "para saber si es o no palíndromo ,Ingrese el numero o palabra :  reconocer\n",
            "reconocer: Es palíndromo\n"
          ],
          "name": "stdout"
        }
      ]
    },
    {
      "cell_type": "markdown",
      "metadata": {
        "id": "EsHYeWCZ6OTe"
      },
      "source": [
        "\n",
        "**2. Numeros primos: **Escriba una función que reciba como entrada un número y determine si es o no un numero primo."
      ]
    },
    {
      "cell_type": "code",
      "metadata": {
        "id": "YPq9mJVn6kHw"
      },
      "source": [
        "\n",
        "def es_primo(num):\n",
        "    for n in range(2, num):\n",
        "        if num % n == 0:\n",
        "            print(\"No es primo\", n, \"es divisor\")\n",
        "            return False\n",
        "    print(\"Es primo\")\n",
        "    return True"
      ],
      "execution_count": 17,
      "outputs": []
    },
    {
      "cell_type": "code",
      "metadata": {
        "colab": {
          "base_uri": "https://localhost:8080/"
        },
        "id": "-ZFjgyVX8i1M",
        "outputId": "20617413-c05e-4963-d229-3a37b389896c"
      },
      "source": [
        "es_primo(23)"
      ],
      "execution_count": 18,
      "outputs": [
        {
          "output_type": "stream",
          "text": [
            "Es primo\n"
          ],
          "name": "stdout"
        },
        {
          "output_type": "execute_result",
          "data": {
            "text/plain": [
              "True"
            ]
          },
          "metadata": {
            "tags": []
          },
          "execution_count": 18
        }
      ]
    },
    {
      "cell_type": "markdown",
      "metadata": {
        "id": "u5mFvKdV8sac"
      },
      "source": [
        "\n",
        "**3. Numeros primos 2: **Escriba una función que devuelva una lista de numeros primos con base a la cantidad que el usuario le solicite, Ejemplo si el usuario ingresa 3 debe retornar los 3 primeros numeros primos"
      ]
    },
    {
      "cell_type": "code",
      "metadata": {
        "colab": {
          "base_uri": "https://localhost:8080/"
        },
        "id": "NPF6I4PA9E4t",
        "outputId": "b30bfc1f-682b-4ef6-cb0c-19a5aa0d2d33"
      },
      "source": [
        "lista = int(input('Hasta que número desea el listado de números primos?: '))\n",
        "cont = 0\n",
        "for i in range(2, lista + 1):\n",
        "    primos = True\n",
        "    for j in range(2,11):\n",
        "        if i == j:\n",
        "           break\n",
        "        elif i%j == 0:\n",
        "           primos = False\n",
        "        else:\n",
        "           continue\n",
        "    if primos == True:\n",
        "        print(' ',i, end='')\n",
        "        cont += 1\n",
        "print('\\nHay', cont, 'números primos en la lista de', lista, 'números.')"
      ],
      "execution_count": 21,
      "outputs": [
        {
          "output_type": "stream",
          "text": [
            "Hasta que número desea el listado de números primos?: 90\n",
            "  2  3  5  7  11  13  17  19  23  29  31  37  41  43  47  53  59  61  67  71  73  79  83  89\n",
            "Hay 24 números primos en la lista de 90 números.\n"
          ],
          "name": "stdout"
        }
      ]
    },
    {
      "cell_type": "markdown",
      "metadata": {
        "id": "kprKBAOV-anA"
      },
      "source": [
        "\n",
        "**4. Numeros primos 3:** El primo de Mersenne es un numero primo de la forma 2𝑝 − 1, una de las propiedades de los primos de Mersenne es que p debe ser también un número primo, escriba una función que imprima la cantidad de numeros que el usuario solicite, Ejemplo: si el usuario ingreso 3 los primeros primos de Mersenne deberían ser 3, 7 y 31."
      ]
    },
    {
      "cell_type": "code",
      "metadata": {
        "colab": {
          "base_uri": "https://localhost:8080/"
        },
        "id": "849Hs9jW-0oe",
        "outputId": "247a73ea-a300-4812-8ec0-78d02c8075da"
      },
      "source": [
        "cant =int(input('Ingrese la cantidad de numeros primos a obtener: '))\n",
        "\n",
        "p= []\n",
        "cont=1\n",
        "numero=2\n",
        "\n",
        "#print(cont,numero)\n",
        "\n",
        "p.append(numero)\n",
        "cont+=1\n",
        "numero+=1\n",
        "\n",
        "while cont <= cant:  \n",
        "  for i in range(2,numero):\n",
        "    #print('{} % {}'.format(i,numero))\n",
        "    if numero % i == 0:\n",
        "      es_primo = False\n",
        "      numero+=1\n",
        "      break\n",
        "    else:        \n",
        "      es_primo =True\n",
        "\n",
        "  if es_primo == True:    \n",
        "    #print(cont,numero)\n",
        "    p.append(numero)\n",
        "    numero+=1\n",
        "    cont+=1\n",
        "\n",
        "mers=[]\n",
        "\n",
        "for i in p:\n",
        "  #print(i)\n",
        "\n",
        "  m= (2**i)-1\n",
        "  mers.append(m)\n",
        "#print(mers)\n",
        "\n",
        "for idx, m in enumerate(mers):\n",
        "    idx+=1\n",
        "    print(idx, m)"
      ],
      "execution_count": 23,
      "outputs": [
        {
          "output_type": "stream",
          "text": [
            "Ingrese la cantidad de numeros primos a obtener: 10\n",
            "1 3\n",
            "2 7\n",
            "3 31\n",
            "4 127\n",
            "5 2047\n",
            "6 8191\n",
            "7 131071\n",
            "8 524287\n",
            "9 8388607\n",
            "10 536870911\n"
          ],
          "name": "stdout"
        }
      ]
    },
    {
      "cell_type": "markdown",
      "metadata": {
        "id": "uhrfTzqFBDvu"
      },
      "source": [
        "\n",
        "**5. Máximo común divisor:** Escriba una función que reciba dos numeros y retorne el cálculo de su máximo común divisor."
      ]
    },
    {
      "cell_type": "code",
      "metadata": {
        "id": "5h6paup3BMRJ"
      },
      "source": [
        "def mcd(x,y):\n",
        "  mcd = 1\n",
        "  if (x % y == 0):\n",
        "    return y\n",
        "  for i in range(int(y/2), 0, -1):\n",
        "    if (x % i == 0) and (y % i == 0):\n",
        "      mcd = i\n",
        "    break\n",
        "  return mcd"
      ],
      "execution_count": 24,
      "outputs": []
    },
    {
      "cell_type": "code",
      "metadata": {
        "colab": {
          "base_uri": "https://localhost:8080/"
        },
        "id": "fEnRfm42BQmL",
        "outputId": "7bda1aac-fa93-4310-ae78-a004500ba2d7"
      },
      "source": [
        "mcd(20,3)"
      ],
      "execution_count": 25,
      "outputs": [
        {
          "output_type": "execute_result",
          "data": {
            "text/plain": [
              "1"
            ]
          },
          "metadata": {
            "tags": []
          },
          "execution_count": 25
        }
      ]
    },
    {
      "cell_type": "markdown",
      "metadata": {
        "id": "fg3mqNKWBW08"
      },
      "source": [
        "\n",
        "**6. Numeros romanos:**Escriba una función que reciba un numero y retorne como resultado el numero romano de dicho número."
      ]
    },
    {
      "cell_type": "code",
      "metadata": {
        "colab": {
          "base_uri": "https://localhost:8080/"
        },
        "id": "9XcVFcYFBbvo",
        "outputId": "54fa97f9-7524-4473-dcd9-c5db11fa509d"
      },
      "source": [
        "\n",
        "numero = int(input(\"Ingrese el numero que quiere convertir a romano: \"))\n",
        "\n",
        "def num_romano(n):\n",
        "  numero = int(n)\n",
        "  num=int(n)\n",
        "  entero=[1000,900,500,400,100,90,50,40,10,9,5,4,1]\n",
        "  romano=['M','CM','D','CD','C','XC','L','XL','X','IX','V','IV','I']\n",
        "  \n",
        "  res = ''\n",
        "\n",
        "  i= 0\n",
        "\n",
        "  while numero > 0:\n",
        "    #print('{}'.format(i))\n",
        "    for n in range(numero//entero[i]):\n",
        "      #print('{} // {}'.format(numero,entero[i]))\n",
        "      res = res + romano[i]\n",
        "      numero = numero - entero[i]\n",
        "    i+=1\n",
        "  return (\"{} en romano es \".format(num) + res)\n",
        "\n",
        "print(num_romano(numero))"
      ],
      "execution_count": 29,
      "outputs": [
        {
          "output_type": "stream",
          "text": [
            "Ingrese el numero que quiere convertir a romano: 17\n",
            "17 en romano es XVII\n"
          ],
          "name": "stdout"
        }
      ]
    }
  ]
}