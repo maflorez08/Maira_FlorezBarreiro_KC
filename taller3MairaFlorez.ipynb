{
  "nbformat": 4,
  "nbformat_minor": 0,
  "metadata": {
    "colab": {
      "name": "taller3MairaFlorez.ipynb",
      "provenance": [],
      "collapsed_sections": [],
      "include_colab_link": true
    },
    "kernelspec": {
      "display_name": "Python 3",
      "language": "python",
      "name": "python3"
    },
    "language_info": {
      "codemirror_mode": {
        "name": "ipython",
        "version": 3
      },
      "file_extension": ".py",
      "mimetype": "text/x-python",
      "name": "python",
      "nbconvert_exporter": "python",
      "pygments_lexer": "ipython3",
      "version": "3.7.10"
    }
  },
  "cells": [
    {
      "cell_type": "markdown",
      "metadata": {
        "id": "view-in-github",
        "colab_type": "text"
      },
      "source": [
        "<a href=\"https://colab.research.google.com/github/maflorez08/Maira_FlorezBarreiro_KC/blob/main/taller3MairaFlorez.ipynb\" target=\"_parent\"><img src=\"https://colab.research.google.com/assets/colab-badge.svg\" alt=\"Open In Colab\"/></a>"
      ]
    },
    {
      "cell_type": "markdown",
      "metadata": {
        "id": "n47cxa3bFMxl"
      },
      "source": [
        "# Python en un contexto de Negocio de aerolineas (Caso practico)"
      ]
    },
    {
      "cell_type": "markdown",
      "metadata": {
        "id": "9k0LBtIM3-4h"
      },
      "source": [
        "# **Taller 3**\n",
        "\n",
        "\n",
        "\n",
        "---\n",
        "Maira Alejandra Florez Barreiro\n"
      ]
    },
    {
      "cell_type": "markdown",
      "metadata": {
        "id": "x4F5W2Xc6UOp"
      },
      "source": [
        "**Contexto empresarial.** Es un empleado de GrowthAir, una compañía aérea comercial en crecimiento. En los últimos años, GrowthAir ha expandido los servicios de vuelos de lujo a ubicaciones en todo el mundo. Tras el excelente desempeño de su equipo en la identificación de nuevas oportunidades comerciales el año pasado, se le ha encomendado la tarea de identificar los principales países para expandir aún más el servicio de vuelos de lujo de GrowthAir.\n",
        "\n",
        "**Problema empresarial.** Su gerente le ha pedido que responda a la siguiente pregunta: \"¿En qué países debería GrowthAir expandir su servicio de vuelos de lujo?\"\n",
        "\n",
        "**Contexto analítico.** Los datos relevantes son una serie de estimaciones de éxito (es decir, probabilidades de éxito) que han elaborado sus equipos internos de investigación de mercados. Usando su capacidad para realizar análisis de datos en Python, se embarcará en resumir las estimaciones de éxito disponibles para producir una recomendación concisa para su jefe."
      ]
    },
    {
      "cell_type": "code",
      "metadata": {
        "id": "QxYIji7W6k4V"
      },
      "source": [
        "#Datos sobre la probabilidad de éxito de la expansión por estimaciones de países\n",
        "success_estimates = {'Australia': [0.6, 0.33, 0.11, 0.14],\n",
        "                     'France': [0.66, 0.78, 0.98, 0.2],\n",
        "                     'Italy': [0.6],\n",
        "                     'Brazil': [0.22, 0.22, 0.43],\n",
        "                     'USA': [0.2, 0.5, 0.3],\n",
        "                     'England': [0.45],\n",
        "                     'Canada': [0.25, 0.3],\n",
        "                     'Argentina': [0.22],\n",
        "                     'Greece': [0.45, 0.66, 0.75, 0.99, 0.15, 0.66],\n",
        "                     'Morocco': [0.29],\n",
        "                     'Tunisia': [0.68, 0.56],\n",
        "                     'Egypt': [0.99],\n",
        "                     'Jamaica': [0.61, 0.65, 0.71],\n",
        "                     'Switzerland': [0.73, 0.86, 0.84, 0.51, 0.99],\n",
        "                     'Germany': [0.45, 0.49, 0.36]}"
      ],
      "execution_count": 2,
      "outputs": []
    },
    {
      "cell_type": "markdown",
      "metadata": {
        "id": "_vmWKSES6usL"
      },
      "source": [
        "Observe el reordenamiento de los elementos del diccionario cuando imprimimos en comparación con el orden en el que originalmente definimos el diccionario. Este es un aspecto clave de los tipos de datos de diccionario: ¡están desordenados! (Esto es muy diferente en comparación con los tipos de datos de lista, que están ordenados.).\n",
        "\n",
        "Ahora intuitivamente, nos gustaría recomendar que la empresa se esfuerce en el país con la estimación de éxito más alta. Pero, ¿qué significa esto cuando hay múltiples estimaciones de éxito para algunos países y solo una para otros? Exploraremos esto a continuación.\n",
        "\n",
        "\n",
        "# Interactuemos con los diccionarios y listas\n",
        "\n",
        "Si observa detenidamente el diccionario ```success_estimates```, verá que algunos países solo tienen una estimación de éxito, mientras que otros tienen muchas. Por ejemplo, Inglaterra solo tiene una estimación en su lista [0,45], mientras que Jamaica tiene tres estimaciones en su lista [0,61, 0,65, 0,71]. Acerquémonos a Jamaica y echemos un vistazo a algunas estadísticas resumidas de las estimaciones.\n",
        "\n",
        "En Python, el tipo de diccionario tiene métodos incorporados (funciones, que discutiremos más adelante) para acceder a las claves y valores del diccionario. Estos métodos se llaman escribiendo  ```.keys()``` o ```.values ()``` después del objeto dictonary. Cambiaremos el tipo de retorno de las llamadas ```.keys()``` y ```.values()``` a una lista utilizando el método ```list()```."
      ]
    },
    {
      "cell_type": "code",
      "metadata": {
        "id": "ApZ3bU-l6uIj",
        "colab": {
          "base_uri": "https://localhost:8080/"
        },
        "outputId": "ab7fad67-b956-447b-cede-f917b33baaff"
      },
      "source": [
        "list(success_estimates.keys())"
      ],
      "execution_count": 3,
      "outputs": [
        {
          "output_type": "execute_result",
          "data": {
            "text/plain": [
              "['Australia',\n",
              " 'France',\n",
              " 'Italy',\n",
              " 'Brazil',\n",
              " 'USA',\n",
              " 'England',\n",
              " 'Canada',\n",
              " 'Argentina',\n",
              " 'Greece',\n",
              " 'Morocco',\n",
              " 'Tunisia',\n",
              " 'Egypt',\n",
              " 'Jamaica',\n",
              " 'Switzerland',\n",
              " 'Germany']"
            ]
          },
          "metadata": {},
          "execution_count": 3
        }
      ]
    },
    {
      "cell_type": "code",
      "metadata": {
        "id": "QG0UF31N7blB",
        "colab": {
          "base_uri": "https://localhost:8080/"
        },
        "outputId": "3f7deda9-127e-4e9d-a4ca-511b93fad089"
      },
      "source": [
        "list(success_estimates.values())"
      ],
      "execution_count": 4,
      "outputs": [
        {
          "output_type": "execute_result",
          "data": {
            "text/plain": [
              "[[0.6, 0.33, 0.11, 0.14],\n",
              " [0.66, 0.78, 0.98, 0.2],\n",
              " [0.6],\n",
              " [0.22, 0.22, 0.43],\n",
              " [0.2, 0.5, 0.3],\n",
              " [0.45],\n",
              " [0.25, 0.3],\n",
              " [0.22],\n",
              " [0.45, 0.66, 0.75, 0.99, 0.15, 0.66],\n",
              " [0.29],\n",
              " [0.68, 0.56],\n",
              " [0.99],\n",
              " [0.61, 0.65, 0.71],\n",
              " [0.73, 0.86, 0.84, 0.51, 0.99],\n",
              " [0.45, 0.49, 0.36]]"
            ]
          },
          "metadata": {},
          "execution_count": 4
        }
      ]
    },
    {
      "cell_type": "markdown",
      "metadata": {
        "id": "nlH6GNGb7fgf"
      },
      "source": [
        "Haremos uso del acceso a las llaves primarias y valores de un diccionario más adelante en el caso al comparar las estimaciones de numerosos países. Por ahora, recuerde que puede acceder a la lista completa de llaves primarias o valores de un diccionario simplemente llamando a los métodos integrados.\n",
        "\n",
        "# Ejercicio 1\n",
        "También nos gustaría comprobar si el nombre de un país es una de las claves del diccionario. Verificar si Morocco y Japan se encuentran en ``success_estimates``\n",
        "\n",
        "De ser asi obtener la lista de valores para Morocco y Japan\n"
      ]
    },
    {
      "cell_type": "code",
      "metadata": {
        "id": "94L_mxWy_ftV",
        "colab": {
          "base_uri": "https://localhost:8080/"
        },
        "outputId": "9954dde7-85d5-4449-da97-f1c7d2505d25"
      },
      "source": [
        "\n",
        "if \"Morocco\" in success_estimates:\n",
        "  print('MOROCCO', success_estimates['Morocco'])\n",
        "\n",
        "else:\n",
        "  print(\"MOROCCO NO SE ENCUENTRA\")\n",
        "\n",
        "if \"Japan\" in success_estimates:\n",
        "  print('Japan',success_estimates['Japan'])\n",
        "else:\n",
        "  print(\"JAPAN NO SE ENCUENTRA\")\n",
        "\n"
      ],
      "execution_count": 17,
      "outputs": [
        {
          "output_type": "stream",
          "text": [
            "MOROCCO [0.29]\n",
            "JAPAN NO SE ENCUENTRA\n"
          ],
          "name": "stdout"
        }
      ]
    },
    {
      "cell_type": "markdown",
      "metadata": {
        "id": "mI3Dq3aC8qNp"
      },
      "source": [
        "# Ejercicio 2\n",
        "Imprimir la longitud de las listas de estimaciones de éxito para Francia, Grecia y Marruecos.\n"
      ]
    },
    {
      "cell_type": "code",
      "metadata": {
        "id": "5AF0-lm28sGf",
        "colab": {
          "base_uri": "https://localhost:8080/"
        },
        "outputId": "699bc8dd-3ec6-4278-8ee0-198ef1c9ce43"
      },
      "source": [
        "if \"France\" in success_estimates:\n",
        "  print('la longitud de las listas de estimaciones de éxito para france es : ',len(success_estimates['France']))\n",
        "  print(\"---------\")\n",
        "if \"Greece\" in success_estimates:\n",
        "  print('la longitud de las listas de estimaciones de éxito para Greece es : ',len(success_estimates['Greece']))\n",
        "  print(\"---------\")\n",
        "if \"Morocco\" in success_estimates:\n",
        "  print('la longitud de las listas de estimaciones de éxito para Morocco es : ',len(success_estimates['Morocco']))\n",
        "  print(\"---------\")"
      ],
      "execution_count": 19,
      "outputs": [
        {
          "output_type": "stream",
          "text": [
            "la longitud de las listas de estimaciones de éxito para france es :  4\n",
            "---------\n",
            "la longitud de las listas de estimaciones de éxito para Greece es :  6\n",
            "---------\n",
            "la longitud de las listas de estimaciones de éxito para Morocco es :  1\n",
            "---------\n"
          ],
          "name": "stdout"
        }
      ]
    },
    {
      "cell_type": "markdown",
      "metadata": {
        "id": "h8IXfjrP9Ld4"
      },
      "source": [
        "# Ejercicio 3\n",
        "\n",
        "¿Cuál de las siguientes opciones sería útil para almacenar estimaciones de éxito del proyecto si estuvieran disponibles a nivel regional en lugar de a nivel nacional?\n",
        "\n",
        "a) Lista\n",
        "\n",
        "(b) Diccionario\n",
        "\n",
        "(c) Flotantes\n",
        "\n",
        "(d) Cadena"
      ]
    },
    {
      "cell_type": "markdown",
      "metadata": {
        "id": "zo4-e-t79P8V"
      },
      "source": [
        "**(b) Diccionario** Debido a que los diccionarios son coleccion de datos en un formato especial que permite definir y acceder a los componentes unicamente mediante una clave ,cada componente de un diccionario esta acompañado de una llave y valor .son de acceso rapido ,no estan ordenados una caracteristica es la facilidad para acceder a los datos mediante un identificador  como los nombres de los paises .\n",
        "\n",
        "\n",
        "\n"
      ]
    },
    {
      "cell_type": "markdown",
      "metadata": {
        "id": "uOXzDyFq9iqu"
      },
      "source": [
        "## Calcular una estimación de éxito promedio específica de un país\n",
        "\n",
        "Continuando con nuestro análisis sobre Jamaica, la lista contiene tres números, [0,61, 0,65, 0,71]. Recuerde que estos números son del tipo ```float``` en Python, que almacena valores decimales numéricos. Una forma lógica de resumir estas estimaciones para poder compararlas entre países es utilizar el promedio aritmético. Usemos operadores artiméticos básicos para calcular la estimación de éxito promedio para Jamaica, almacenando el resultado en una nueva variable ```avg_jamaica```:"
      ]
    },
    {
      "cell_type": "code",
      "metadata": {
        "colab": {
          "base_uri": "https://localhost:8080/"
        },
        "id": "lvtC901V9r4j",
        "outputId": "bbc488bd-4099-4de1-9cdf-3bfe9aa437fd"
      },
      "source": [
        "avg_jamaica = (0.61 + 0.65 + 0.71) / 3\n",
        "print(avg_jamaica)"
      ],
      "execution_count": 20,
      "outputs": [
        {
          "output_type": "stream",
          "text": [
            "0.6566666666666666\n"
          ],
          "name": "stdout"
        }
      ]
    },
    {
      "cell_type": "markdown",
      "metadata": {
        "id": "vbEso-Zg9yEl"
      },
      "source": [
        "Vemos que la probabilidad promedio de éxito estimada para Jamaica es de aproximadamente 0.657. Sin embargo, producimos esta estimación codificando manualmente los valores. Si hiciéramos esto para todos los países, llevaría bastante tiempo. Por eso, nos gustaría utilizar una forma más automatizada de producir el promedio.\n",
        "\n",
        "Para producir un promedio, podemos utilizar una <b>función</b>. Las funciones operan sobre datos y variables en Python para realizar una acción deseada. Las funciones pueden tener tanto <b> entradas </b> como <b> salidas </b>, al igual que los operadores matemáticos familiares como suma, resta, multiplicación y división (que tienen dos entradas y una salida). Si bien las funciones en Python aún pueden tener un propósito matemático, como elevar al cuadrado un número entero, Python permite un comportamiento de función más abstracto, como imprimir en la pantalla. En este caso, la función ```print()``` imprimirá su entrada en la pantalla."
      ]
    },
    {
      "cell_type": "code",
      "metadata": {
        "colab": {
          "base_uri": "https://localhost:8080/"
        },
        "id": "NKADD__Q-CBw",
        "outputId": "27497733-64fc-4959-914a-634fb77d61eb"
      },
      "source": [
        "country_name = 'Jamaica'\n",
        "jamaica_list = success_estimates[country_name] # lista de estimacione spara jamaica\n",
        "print(jamaica_list)"
      ],
      "execution_count": 21,
      "outputs": [
        {
          "output_type": "stream",
          "text": [
            "[0.61, 0.65, 0.71]\n"
          ],
          "name": "stdout"
        }
      ]
    },
    {
      "cell_type": "code",
      "metadata": {
        "colab": {
          "base_uri": "https://localhost:8080/"
        },
        "id": "NEnDr1a_-HrH",
        "outputId": "3a3320f0-00ad-4a06-f707-75f21c06b532"
      },
      "source": [
        "avg_jamaica = sum(jamaica_list) / len(jamaica_list)\n",
        "min_jamaica = min(jamaica_list)\n",
        "max_jamaica = max(jamaica_list)\n",
        "print(\"Pais:\",country_name,\", Average:\",avg_jamaica)\n",
        "print(\"Pais:\",country_name,\", Min:\",min_jamaica)\n",
        "print(\"Pais:\",country_name,\", Max:\",max_jamaica)"
      ],
      "execution_count": 22,
      "outputs": [
        {
          "output_type": "stream",
          "text": [
            "Pais: Jamaica , Average: 0.6566666666666666\n",
            "Pais: Jamaica , Min: 0.61\n",
            "Pais: Jamaica , Max: 0.71\n"
          ],
          "name": "stdout"
        }
      ]
    },
    {
      "cell_type": "code",
      "metadata": {
        "colab": {
          "base_uri": "https://localhost:8080/"
        },
        "id": "Y0FSNwxC-L_W",
        "outputId": "7f776b75-13e3-434d-af3b-5925ecf55855"
      },
      "source": [
        "# Ahora redondeando\n",
        "avg_jamaica = round(sum(jamaica_list) / len(jamaica_list),2)\n",
        "min_jamaica = round(min(jamaica_list),2)\n",
        "max_jamaica = round(max(jamaica_list),2)\n",
        "print(\"Pais:\",country_name,\", Average:\",avg_jamaica)\n",
        "print(\"Pais:\",country_name,\", Min:\",min_jamaica)\n",
        "print(\"Pais:\",country_name,\", Max:\",max_jamaica)"
      ],
      "execution_count": 23,
      "outputs": [
        {
          "output_type": "stream",
          "text": [
            "Pais: Jamaica , Average: 0.66\n",
            "Pais: Jamaica , Min: 0.61\n",
            "Pais: Jamaica , Max: 0.71\n"
          ],
          "name": "stdout"
        }
      ]
    },
    {
      "cell_type": "markdown",
      "metadata": {
        "id": "OtV5GvUE_GpL"
      },
      "source": [
        "Escribamos un código para calcular el éxito promedio de cada país. Muestra (usando print ()) la estimación de éxito promedio de cada país en la pantalla. Las declaraciones impresas deben mostrar cada país en una nueva línea, por ejemplo:"
      ]
    },
    {
      "cell_type": "code",
      "metadata": {
        "colab": {
          "base_uri": "https://localhost:8080/"
        },
        "id": "7jDs7ZZP_JSC",
        "outputId": "1bbecab3-30ae-46ac-d2b1-ea5a50391b72"
      },
      "source": [
        "print(\"Pais:\",'France',\", Average:\",sum(success_estimates['France']) / len(success_estimates['France']))\n",
        "print(\"Pais:\",'Brazil',\", Average:\",sum(success_estimates['Brazil']) / len(success_estimates['Brazil']))\n",
        "print(\"Pais:\",'Argentina',\", Average:\",sum(success_estimates['Argentina']) / len(success_estimates['Argentina']))\n",
        "print(\"Pais:\",'Germany',\", Average:\",sum(success_estimates['Germany']) / len(success_estimates['Germany']))\n",
        "print(\"Pais:\",'Australia',\", Average:\",sum(success_estimates['Australia']) / len(success_estimates['Australia']))\n",
        "print(\"Pais:\",'Canada',\", Average:\",sum(success_estimates['Canada']) / len(success_estimates['Canada']))\n",
        "print(\"Pais:\",'Greece',\", Average:\",sum(success_estimates['Greece']) / len(success_estimates['Greece']))\n",
        "print(\"Pais:\",'USA',\", Average:\",sum(success_estimates['USA']) / len(success_estimates['USA']))\n",
        "print(\"Pais:\",'Switzerland',\", Average:\",sum(success_estimates['Switzerland']) / len(success_estimates['Switzerland']))\n",
        "print(\"Pais:\",'Tunisia',\", Average:\",sum(success_estimates['Tunisia']) /len(success_estimates['Tunisia']))\n",
        "print(\"Pais:\",'Italy',\", Average:\",sum(success_estimates['Italy']) / len(success_estimates['Italy']))\n",
        "print(\"Pais:\",'Egypt',\", Average:\",sum(success_estimates['Egypt']) / len(success_estimates['Egypt']))\n",
        "print(\"Pais:\",'Jamaica',\", Average:\",sum(success_estimates['Jamaica']) / len(success_estimates['Jamaica']))\n",
        "print(\"Pais:\",'Morocco',\", Average:\",sum(success_estimates['Morocco']) / len(success_estimates['Morocco']))\n",
        "print(\"Pais:\",'England',\", Average:\",sum(success_estimates['England']) / len(success_estimates['England']))"
      ],
      "execution_count": 24,
      "outputs": [
        {
          "output_type": "stream",
          "text": [
            "Pais: France , Average: 0.655\n",
            "Pais: Brazil , Average: 0.29\n",
            "Pais: Argentina , Average: 0.22\n",
            "Pais: Germany , Average: 0.4333333333333333\n",
            "Pais: Australia , Average: 0.29500000000000004\n",
            "Pais: Canada , Average: 0.275\n",
            "Pais: Greece , Average: 0.61\n",
            "Pais: USA , Average: 0.3333333333333333\n",
            "Pais: Switzerland , Average: 0.7859999999999999\n",
            "Pais: Tunisia , Average: 0.6200000000000001\n",
            "Pais: Italy , Average: 0.6\n",
            "Pais: Egypt , Average: 0.99\n",
            "Pais: Jamaica , Average: 0.6566666666666666\n",
            "Pais: Morocco , Average: 0.29\n",
            "Pais: England , Average: 0.45\n"
          ],
          "name": "stdout"
        }
      ]
    },
    {
      "cell_type": "markdown",
      "metadata": {
        "id": "DAbF8enH_Sc_"
      },
      "source": [
        "## Determinar sistemáticamente la estimación de éxito promedio para todos los países\n",
        "\n",
        "El objetivo final de este análisis es una recomendación sobre dónde se deben considerar las oportunidades de expansión global. Para llegar a una conclusión, sería ideal tener la probabilidad de éxito promedio para cada país.\n",
        "\n",
        "Para lograr esto, usaremos un elemento de flujo de control en Python: el <b> bucle for </b>. El bucle ```for``` permite ejecutar las mismas declaraciones una y otra vez (es decir, en bucle). Esto ahorra una cantidad significativa de tiempo codificando tareas repetitivas y ayuda en la legibilidad del código. La estructura general de un bucle for es:\n",
        "\n",
        "```python\n",
        "for iterator_variable in some_sequence:\n",
        "    statements(s)\n",
        "```\n",
        "\n",
        "The for loop iterates over ```some_sequence``` and performs ```statements(s)``` at each iteration. That is, at each iteration the ```iterator_variable```  is updated to the next value in ```some_sequence```. As a concrete example, consider the loop:\n",
        "\n",
        "```python\n",
        "for i in [1,2,3,4]:\n",
        "    print(i*i)\n",
        "```\n",
        "\n",
        "Aquí, el bucle for se imprimirá en la pantalla cuatro veces; es decir, imprimirá ```1``` en la primera iteración del ciclo,```4``` en la segunda iteración,```9``` en la tercera y ```16``` en el cuarto. Por lo tanto, la instrucción de bucle for iterará sobre todos los elementos de la lista ```[1,2,3,4]```, y en cada iteración actualiza la variable iteradora ```i``` a la siguiente valor en la lista ```[1,2,3,4]```.\n",
        "\n",
        "Usemos un ciclo for en los datos de nuestro país obteniendo una lista de todas las claves en ```success_estimates```:\n"
      ]
    },
    {
      "cell_type": "code",
      "metadata": {
        "colab": {
          "base_uri": "https://localhost:8080/"
        },
        "id": "eb41lA4Q_tHQ",
        "outputId": "ed7b20f3-c15f-4694-c324-966191c9657c"
      },
      "source": [
        "country_name_list = list(success_estimates.keys())\n",
        "print(country_name_list)"
      ],
      "execution_count": 25,
      "outputs": [
        {
          "output_type": "stream",
          "text": [
            "['Australia', 'France', 'Italy', 'Brazil', 'USA', 'England', 'Canada', 'Argentina', 'Greece', 'Morocco', 'Tunisia', 'Egypt', 'Jamaica', 'Switzerland', 'Germany']\n"
          ],
          "name": "stdout"
        }
      ]
    },
    {
      "cell_type": "markdown",
      "metadata": {
        "id": "dxedpUgy_wf2"
      },
      "source": [
        "Aquí podemos recorrer todos los elementos en ```country_name_list```, extraemos el valor correspondiente de ```success_estimates``` (que será del tipo list), y posteriormente tomamos la media de la lista. La impresión detallada lo guiará a través de la ejecución del bucle for."
      ]
    },
    {
      "cell_type": "markdown",
      "metadata": {
        "id": "Oo4ifbKPzb9U"
      },
      "source": [
        "# Ejericicio 4\n",
        "\n",
        "Crear un loop que obtenga e imprima el promedio de la tasa de exito de cada pais"
      ]
    },
    {
      "cell_type": "code",
      "metadata": {
        "id": "FM4hM6wA_z7m",
        "colab": {
          "base_uri": "https://localhost:8080/"
        },
        "outputId": "dae69b70-ec05-44da-f69c-8b6722614f7f"
      },
      "source": [
        "for i in country_name_list:\n",
        "  print(\"PAIS: \"+i)\n",
        "  print(\"Total: \" , sum(success_estimates[i]))\n",
        "  print(\"longitud de la lista: \",len(success_estimates[i]))\n",
        "  print(\"Promedio: \",sum(success_estimates[i])/len(success_estimates[i]))\n",
        "  print(\"---------\")\n"
      ],
      "execution_count": 32,
      "outputs": [
        {
          "output_type": "stream",
          "text": [
            "PAIS: Australia\n",
            "Total:  1.1800000000000002\n",
            "longitud de la lista:  4\n",
            "Promedio:  0.29500000000000004\n",
            "---------\n",
            "PAIS: France\n",
            "Total:  2.62\n",
            "longitud de la lista:  4\n",
            "Promedio:  0.655\n",
            "---------\n",
            "PAIS: Italy\n",
            "Total:  0.6\n",
            "longitud de la lista:  1\n",
            "Promedio:  0.6\n",
            "---------\n",
            "PAIS: Brazil\n",
            "Total:  0.87\n",
            "longitud de la lista:  3\n",
            "Promedio:  0.29\n",
            "---------\n",
            "PAIS: USA\n",
            "Total:  1.0\n",
            "longitud de la lista:  3\n",
            "Promedio:  0.3333333333333333\n",
            "---------\n",
            "PAIS: England\n",
            "Total:  0.45\n",
            "longitud de la lista:  1\n",
            "Promedio:  0.45\n",
            "---------\n",
            "PAIS: Canada\n",
            "Total:  0.55\n",
            "longitud de la lista:  2\n",
            "Promedio:  0.275\n",
            "---------\n",
            "PAIS: Argentina\n",
            "Total:  0.22\n",
            "longitud de la lista:  1\n",
            "Promedio:  0.22\n",
            "---------\n",
            "PAIS: Greece\n",
            "Total:  3.66\n",
            "longitud de la lista:  6\n",
            "Promedio:  0.61\n",
            "---------\n",
            "PAIS: Morocco\n",
            "Total:  0.29\n",
            "longitud de la lista:  1\n",
            "Promedio:  0.29\n",
            "---------\n",
            "PAIS: Tunisia\n",
            "Total:  1.2400000000000002\n",
            "longitud de la lista:  2\n",
            "Promedio:  0.6200000000000001\n",
            "---------\n",
            "PAIS: Egypt\n",
            "Total:  0.99\n",
            "longitud de la lista:  1\n",
            "Promedio:  0.99\n",
            "---------\n",
            "PAIS: Jamaica\n",
            "Total:  1.97\n",
            "longitud de la lista:  3\n",
            "Promedio:  0.6566666666666666\n",
            "---------\n",
            "PAIS: Switzerland\n",
            "Total:  3.9299999999999997\n",
            "longitud de la lista:  5\n",
            "Promedio:  0.7859999999999999\n",
            "---------\n",
            "PAIS: Germany\n",
            "Total:  1.2999999999999998\n",
            "longitud de la lista:  3\n",
            "Promedio:  0.4333333333333333\n",
            "---------\n"
          ],
          "name": "stdout"
        }
      ]
    },
    {
      "cell_type": "markdown",
      "metadata": {
        "id": "rB01Uuq0AiJi"
      },
      "source": [
        "# Ejercicio 5\n",
        "Escribir un bucle for para calcular el mínimo y el máximo de la lista de estimaciones de éxito de cada país, imprimiendo cada uno de forma consecutiva como en el ejemplo de bucle for anterior."
      ]
    },
    {
      "cell_type": "code",
      "metadata": {
        "id": "4xXepow6AhmD",
        "colab": {
          "base_uri": "https://localhost:8080/"
        },
        "outputId": "9462f275-b8df-48b2-b193-3d0e315dac84"
      },
      "source": [
        "\n",
        "for i in country_name_list:\n",
        "  print(\"PAIS:\"+i)\n",
        "  print(\"MAXIMO: \" , max(success_estimates[i]))\n",
        "  print(\"MINIMO: \" , min(success_estimates[i]))\n",
        "  print(\"---------\")\n"
      ],
      "execution_count": 33,
      "outputs": [
        {
          "output_type": "stream",
          "text": [
            "PAIS:Australia\n",
            "MAXIMO:  0.6\n",
            "MINIMO:  0.11\n",
            "---------\n",
            "PAIS:France\n",
            "MAXIMO:  0.98\n",
            "MINIMO:  0.2\n",
            "---------\n",
            "PAIS:Italy\n",
            "MAXIMO:  0.6\n",
            "MINIMO:  0.6\n",
            "---------\n",
            "PAIS:Brazil\n",
            "MAXIMO:  0.43\n",
            "MINIMO:  0.22\n",
            "---------\n",
            "PAIS:USA\n",
            "MAXIMO:  0.5\n",
            "MINIMO:  0.2\n",
            "---------\n",
            "PAIS:England\n",
            "MAXIMO:  0.45\n",
            "MINIMO:  0.45\n",
            "---------\n",
            "PAIS:Canada\n",
            "MAXIMO:  0.3\n",
            "MINIMO:  0.25\n",
            "---------\n",
            "PAIS:Argentina\n",
            "MAXIMO:  0.22\n",
            "MINIMO:  0.22\n",
            "---------\n",
            "PAIS:Greece\n",
            "MAXIMO:  0.99\n",
            "MINIMO:  0.15\n",
            "---------\n",
            "PAIS:Morocco\n",
            "MAXIMO:  0.29\n",
            "MINIMO:  0.29\n",
            "---------\n",
            "PAIS:Tunisia\n",
            "MAXIMO:  0.68\n",
            "MINIMO:  0.56\n",
            "---------\n",
            "PAIS:Egypt\n",
            "MAXIMO:  0.99\n",
            "MINIMO:  0.99\n",
            "---------\n",
            "PAIS:Jamaica\n",
            "MAXIMO:  0.71\n",
            "MINIMO:  0.61\n",
            "---------\n",
            "PAIS:Switzerland\n",
            "MAXIMO:  0.99\n",
            "MINIMO:  0.51\n",
            "---------\n",
            "PAIS:Germany\n",
            "MAXIMO:  0.49\n",
            "MINIMO:  0.36\n",
            "---------\n"
          ],
          "name": "stdout"
        }
      ]
    },
    {
      "cell_type": "markdown",
      "metadata": {
        "id": "aIV5RdQrAr1M"
      },
      "source": [
        "# Ejercicio 6\n",
        "Escriba el código para determinar el país con el mayor rango de estimaciones de éxito (es decir, la mayor diferencia entre la estimación más pequeña y la más grande para un país)."
      ]
    },
    {
      "cell_type": "code",
      "metadata": {
        "id": "1se-mViJAuPG",
        "colab": {
          "base_uri": "https://localhost:8080/"
        },
        "outputId": "39b96fc8-8857-4401-f3dc-d4ff7ac84ee3"
      },
      "source": [
        "maximo=0\n",
        "minimo=0\n",
        "maximoArray=[]\n",
        "minimoArray=[]\n",
        "def obtener_minimo():\n",
        "  global minimo\n",
        "  for i in country_name_list:\n",
        "    minimo=len(success_estimates[i])\n",
        "    break\n",
        "\n",
        "obtener_minimo()\n",
        "for i in country_name_list:\n",
        "  if maximo < len(success_estimates[i]):\n",
        "    maximo=len(success_estimates[i])\n",
        "    maximoArray=[]\n",
        "    maximoArray.append(i)\n",
        "  elif maximo==len(success_estimates[i]):\n",
        "    maximoArray.append(i)\n",
        "  if minimo > len(success_estimates[i]):\n",
        "    minimo=len(success_estimates[i])\n",
        "    minimoArray=[]\n",
        "    minimoArray.append(i)\n",
        "  elif minimo==len(success_estimates[i]):\n",
        "    minimoArray.append(i)\n",
        "\n",
        "print(\"Estimacion Maxima:\",maximo)\n",
        "print(\"Pais:\", maximoArray)\n",
        "print(\"------------------------\")\n",
        "print(\"Estimacion Minima:\",minimo)\n",
        "print(\"Pais:\",minimoArray)\n",
        "\n",
        "\n"
      ],
      "execution_count": 34,
      "outputs": [
        {
          "output_type": "stream",
          "text": [
            "Estimacion Maxima: 6\n",
            "Pais: ['Greece']\n",
            "------------------------\n",
            "Estimacion Minima: 1\n",
            "Pais: ['Italy', 'England', 'Argentina', 'Morocco', 'Egypt']\n"
          ],
          "name": "stdout"
        }
      ]
    },
    {
      "cell_type": "markdown",
      "metadata": {
        "id": "9S5rDBSEAz4-"
      },
      "source": [
        "## Uso de listas por comprensión para determinar la cantidad de estimaciones para cada país\n",
        "\n",
        "En el futuro, estamos interesados en conocer la cantidad de estimaciones de éxito disponibles para cada país. Python ofrece una forma concisa de lograr este objetivo mediante el uso de <b> listas por comprensión </b>.\n",
        "\n",
        "Las listas por comprensión le permiten a uno construir una lista de manera concisa. Echemos un vistazo a cómo funciona esto."
      ]
    },
    {
      "cell_type": "code",
      "metadata": {
        "colab": {
          "base_uri": "https://localhost:8080/"
        },
        "id": "P0r1U_MKA5d3",
        "outputId": "aa38e57c-7444-4e59-eb59-a7f5597ebc44"
      },
      "source": [
        "key_name_list = [i for i in success_estimates] # loop sobre cada item  i en success_estimates y ponerlo en una lista\n",
        "key_name_list"
      ],
      "execution_count": 35,
      "outputs": [
        {
          "output_type": "execute_result",
          "data": {
            "text/plain": [
              "['Australia',\n",
              " 'France',\n",
              " 'Italy',\n",
              " 'Brazil',\n",
              " 'USA',\n",
              " 'England',\n",
              " 'Canada',\n",
              " 'Argentina',\n",
              " 'Greece',\n",
              " 'Morocco',\n",
              " 'Tunisia',\n",
              " 'Egypt',\n",
              " 'Jamaica',\n",
              " 'Switzerland',\n",
              " 'Germany']"
            ]
          },
          "metadata": {},
          "execution_count": 35
        }
      ]
    },
    {
      "cell_type": "markdown",
      "metadata": {
        "id": "-loNMJI8BBK1"
      },
      "source": [
        "Aquí vemos que hemos hecho un bucle sobre cada clave del diccionario success_estimates (por lo tanto, cada país) y extraído el nombre del país, todo en una línea de código. También podemos acceder a los valores de cada clave en success_estimates."
      ]
    },
    {
      "cell_type": "code",
      "metadata": {
        "colab": {
          "base_uri": "https://localhost:8080/"
        },
        "id": "Hd9aHxC3BDKc",
        "outputId": "072e8c07-71c8-487c-f71d-b8558346814d"
      },
      "source": [
        "value_name_list = [success_estimates[i] for i in success_estimates] # loop sobre cada item i ensuccess_estimates y poner success_estimates[i] en la lista\n",
        "value_name_list"
      ],
      "execution_count": 36,
      "outputs": [
        {
          "output_type": "execute_result",
          "data": {
            "text/plain": [
              "[[0.6, 0.33, 0.11, 0.14],\n",
              " [0.66, 0.78, 0.98, 0.2],\n",
              " [0.6],\n",
              " [0.22, 0.22, 0.43],\n",
              " [0.2, 0.5, 0.3],\n",
              " [0.45],\n",
              " [0.25, 0.3],\n",
              " [0.22],\n",
              " [0.45, 0.66, 0.75, 0.99, 0.15, 0.66],\n",
              " [0.29],\n",
              " [0.68, 0.56],\n",
              " [0.99],\n",
              " [0.61, 0.65, 0.71],\n",
              " [0.73, 0.86, 0.84, 0.51, 0.99],\n",
              " [0.45, 0.49, 0.36]]"
            ]
          },
          "metadata": {},
          "execution_count": 36
        }
      ]
    },
    {
      "cell_type": "markdown",
      "metadata": {
        "id": "4dpc0wd7BNIh"
      },
      "source": [
        "En la lista por comprensión anterior, cada valor de ```i``` es un nombre de país y el valor se devuelve cuando se llama a ```success_estimates [i]```. Vemos que esto es una forma efectiva y concisa de escribir un bucle for que crea una lista.\n",
        "\n",
        "Podemos usar esto para determinar rápidamente cuántas estimaciones de éxito están disponibles para cada país."
      ]
    },
    {
      "cell_type": "code",
      "metadata": {
        "id": "PHJPFWi-BVXH",
        "colab": {
          "base_uri": "https://localhost:8080/"
        },
        "outputId": "bdd98883-f9d7-4352-c8f4-0840202b0418"
      },
      "source": [
        "[[i,len(success_estimates[i])] for i in success_estimates]"
      ],
      "execution_count": 37,
      "outputs": [
        {
          "output_type": "execute_result",
          "data": {
            "text/plain": [
              "[['Australia', 4],\n",
              " ['France', 4],\n",
              " ['Italy', 1],\n",
              " ['Brazil', 3],\n",
              " ['USA', 3],\n",
              " ['England', 1],\n",
              " ['Canada', 2],\n",
              " ['Argentina', 1],\n",
              " ['Greece', 6],\n",
              " ['Morocco', 1],\n",
              " ['Tunisia', 2],\n",
              " ['Egypt', 1],\n",
              " ['Jamaica', 3],\n",
              " ['Switzerland', 5],\n",
              " ['Germany', 3]]"
            ]
          },
          "metadata": {},
          "execution_count": 37
        }
      ]
    },
    {
      "cell_type": "markdown",
      "metadata": {
        "id": "oaM-qYFjBbl2"
      },
      "source": [
        "# Ejercicio 7\n",
        "Utilizando listas por comprensión, escriba un script para crear una <b> lista de listas </b> llamada ```sum_squares_list```, donde cada elemento de la lista es una lista de dos elementos [nombre del país, valor]. El elemento de valor en la lista debe ser la suma de cuadrados de las estimaciones de éxito de ese país. Por ejemplo, un elemento de ```sum_squares_list``` debe ser para Jamaica, donde la lista de dos elementos es [Jamaica, 1.2987] (desde 1.2987 = 0.61^ 2 + 0.65^ 2 + 0.71^ 2)."
      ]
    },
    {
      "cell_type": "code",
      "metadata": {
        "id": "Kk3uYU19BinH",
        "colab": {
          "base_uri": "https://localhost:8080/"
        },
        "outputId": "85694a03-41c2-479a-8324-66789748b97f"
      },
      "source": [
        "sum_squares_list=[]\n",
        "for i in country_name_list:\n",
        "  sum_squares_list.append([i,sum([ x**2 for x in success_estimates[i]])])\n",
        "\n",
        "sum_squares_list"
      ],
      "execution_count": 38,
      "outputs": [
        {
          "output_type": "execute_result",
          "data": {
            "text/plain": [
              "[['Australia', 0.5005999999999999],\n",
              " ['France', 2.0444],\n",
              " ['Italy', 0.36],\n",
              " ['Brazil', 0.28169999999999995],\n",
              " ['USA', 0.38],\n",
              " ['England', 0.2025],\n",
              " ['Canada', 0.1525],\n",
              " ['Argentina', 0.0484],\n",
              " ['Greece', 2.6388],\n",
              " ['Morocco', 0.0841],\n",
              " ['Tunisia', 0.7760000000000001],\n",
              " ['Egypt', 0.9801],\n",
              " ['Jamaica', 1.2987],\n",
              " ['Switzerland', 3.2183],\n",
              " ['Germany', 0.5722]]"
            ]
          },
          "metadata": {},
          "execution_count": 38
        }
      ]
    },
    {
      "cell_type": "markdown",
      "metadata": {
        "id": "ZCVB0UiJBom6"
      },
      "source": [
        "# Ejercicio 8\n",
        "Nos gustaría determinar la distribución alrededor de la estimación de éxito promedio para cada país. Utilizando listas por comprensión, escriba un codigo que reste la estimación de éxito promedio para un país determinado de cada estimación de éxito para ese país. Almacene los resultados en una lista llamada ```remove_mean_list```. Redondea los valores a dos decimales. Su salida debe producir la siguiente lista de listas:\n",
        "\n",
        "\n",
        "```\n",
        "[['Australia', [0.3, 0.03, -0.19, -0.16]],\n",
        " ['France', [0.01, 0.12, 0.32, -0.46]],\n",
        " ['Italy', [0.0]],\n",
        " ['Brazil', [-0.07, -0.07, 0.14]],\n",
        " ['USA', [-0.13, 0.17, -0.03]],\n",
        " ['England', [0.0]],\n",
        " ['Canada', [-0.03, 0.02]],\n",
        " ['Argentina', [0.0]],\n",
        " ['Greece', [-0.16, 0.05, 0.14, 0.38, -0.46, 0.05]],\n",
        " ['Morocco', [0.0]],\n",
        " ['Tunisia', [0.06, -0.06]],\n",
        " ['Egypt', [0.0]],\n",
        " ['Jamaica', [-0.05, -0.01, 0.05]],\n",
        " ['Switzerland', [-0.06, 0.07, 0.05, -0.28, 0.2]],\n",
        " ['Germany', [0.02, 0.06, -0.07]]]\n",
        "```"
      ]
    },
    {
      "cell_type": "code",
      "metadata": {
        "colab": {
          "base_uri": "https://localhost:8080/"
        },
        "id": "I809qkmIo8nO",
        "outputId": "cb4d4065-d7a0-4d45-8cff-03f31ac09c18"
      },
      "source": [
        "remove_mean_list=[]\n",
        "for i in country_name_list:\n",
        "  promedio = sum(success_estimates[i])/len(success_estimates[i])\n",
        "  remove_mean_list.append([i,[ round(x-promedio,2) for x in success_estimates[i]]])\n",
        "\n",
        "remove_mean_list"
      ],
      "execution_count": 39,
      "outputs": [
        {
          "output_type": "execute_result",
          "data": {
            "text/plain": [
              "[['Australia', [0.3, 0.03, -0.19, -0.16]],\n",
              " ['France', [0.01, 0.12, 0.32, -0.46]],\n",
              " ['Italy', [0.0]],\n",
              " ['Brazil', [-0.07, -0.07, 0.14]],\n",
              " ['USA', [-0.13, 0.17, -0.03]],\n",
              " ['England', [0.0]],\n",
              " ['Canada', [-0.03, 0.02]],\n",
              " ['Argentina', [0.0]],\n",
              " ['Greece', [-0.16, 0.05, 0.14, 0.38, -0.46, 0.05]],\n",
              " ['Morocco', [0.0]],\n",
              " ['Tunisia', [0.06, -0.06]],\n",
              " ['Egypt', [0.0]],\n",
              " ['Jamaica', [-0.05, -0.01, 0.05]],\n",
              " ['Switzerland', [-0.06, 0.07, 0.05, -0.28, 0.2]],\n",
              " ['Germany', [0.02, 0.06, -0.07]]]"
            ]
          },
          "metadata": {},
          "execution_count": 39
        }
      ]
    },
    {
      "cell_type": "code",
      "metadata": {
        "id": "zmL9I-N1Bn8J",
        "colab": {
          "base_uri": "https://localhost:8080/"
        },
        "outputId": "57b29365-beb1-497d-bd81-d29745d0b12b"
      },
      "source": [
        "print(\"Pais:\",'France',\", Average:\",sum(success_estimates['France']) / len(success_estimates['France']))"
      ],
      "execution_count": 40,
      "outputs": [
        {
          "output_type": "stream",
          "text": [
            "Pais: France , Average: 0.655\n"
          ],
          "name": "stdout"
        }
      ]
    },
    {
      "cell_type": "markdown",
      "metadata": {
        "id": "9j2l45uCCEvE"
      },
      "source": [
        "Según el análisis anterior, vemos que las estimaciones de éxito medio de los países varían ampliamente, desde el más bajo, Canadá = 0,275, hasta el más alto, Egipto = 0,99. Sin embargo, observe que la media de Egipto se calcula a partir de 1 estimación de éxito. ¿Confiamos en confiar en una única estimación como proxy de la estimación de éxito promedio?\n",
        "\n",
        "Dado que el proyecto de expansión global utilizará valiosos recursos de la empresa, decidimos que es mejor restringir nuestro análisis a países que tienen dos o más estimaciones de éxito. Para realizar esta tarea, usaremos una estructura de control en Python conocida como la <b> instrucción if ... elif ... else </b>. Sigue la estructura general.\n",
        "\n",
        "\n",
        "```python\n",
        "if test_expression_1:\n",
        "    block1_statement(s)\n",
        "elif test_expression_2:\n",
        "    block2_statement2(s)\n",
        "else:\n",
        "    block3_statement(s)\n",
        "```\n",
        "\n",
        "Aquí, ```test_expression_1``` y ```test_expression_2``` deben evaluarse como ```True``` o ```False```, un tipo <b>booleano</b> de Python. El tipo booleano está asociado con variables que son ```Verdadero``` o ```Falso```.\n",
        "\n",
        "Si ```test_expression_1``` es True, ```block1_statement(s)``` se ejecutará y las otras sentencias de bloque no. Si ```test_expression_1``` es False pero ```test_expression_2``` es True, entonces ```block2_statement2 (s)``` se ejecutará y los demás no. Finalmente, si ```test_expression_1``` y ``` test_expression_2``` son ambos falsos, entonces se ejecutará el ```block3_statement (s)``` de la sección else. Esta estructura condicional de una declaración if permite controlar el flujo del código Python.\n",
        "\n",
        "Usemos esto para filtrar los países que solo tienen una estimación de éxito.\n",
        "\n",
        "# Ejercicio 9\n",
        "Usaremos la declaración if anterior para eliminar los países con menos de una estimación de éxito. Para facilitar la visualización del resultado, almacenaremos las estimaciones medias de cada país en un nuevo diccionario ```country_means```."
      ]
    },
    {
      "cell_type": "code",
      "metadata": {
        "id": "v2xiYtRjCiiL",
        "colab": {
          "base_uri": "https://localhost:8080/"
        },
        "outputId": "e427d428-8ce6-4874-d79b-44afea5a83b7"
      },
      "source": [
        "country_means=[]\n",
        "for i in country_name_list:\n",
        "  if len(success_estimates[i])>1:\n",
        "    promedio = sum(success_estimates[i])/len(success_estimates[i])\n",
        "    country_means.append([i,round(promedio,2)])\n",
        "\n",
        "country_means"
      ],
      "execution_count": 41,
      "outputs": [
        {
          "output_type": "execute_result",
          "data": {
            "text/plain": [
              "[['Australia', 0.3],\n",
              " ['France', 0.66],\n",
              " ['Brazil', 0.29],\n",
              " ['USA', 0.33],\n",
              " ['Canada', 0.28],\n",
              " ['Greece', 0.61],\n",
              " ['Tunisia', 0.62],\n",
              " ['Jamaica', 0.66],\n",
              " ['Switzerland', 0.79],\n",
              " ['Germany', 0.43]]"
            ]
          },
          "metadata": {},
          "execution_count": 41
        }
      ]
    },
    {
      "cell_type": "markdown",
      "metadata": {
        "id": "46RK-_awD2l2"
      },
      "source": [
        "Al observar las medias de países resultantes, notamos que el país con la mayor estimación de éxito medio es Suiza con 0,79, mientras que la estimación de éxito medio más baja es Canadá con 0,28."
      ]
    },
    {
      "cell_type": "markdown",
      "metadata": {
        "id": "12lXfLpvD6gR"
      },
      "source": [
        "# Ejercicio 10\n",
        "Después de revisar la política de la empresa sobre procedimientos estadísticos, observa que la empresa recomienda que todas las estimaciones (promedios, mínimos, máximos) deben tener al menos tres valores que contribuyan a la estadística de resumen. Escriba un ciclo for y use la estructura de la declaración if para seleccionar e imprimir las estimaciones de éxito promedio para los países que cumplen con esta política. Si el país no cumple con la política, escriba el nombre del país y \"*No cumple con la política de la empresa*\". Cada país debería aparecer en una nueva línea."
      ]
    },
    {
      "cell_type": "code",
      "metadata": {
        "colab": {
          "base_uri": "https://localhost:8080/"
        },
        "id": "GzUTTTe4ft8K",
        "outputId": "3b9dc8db-6ee0-487d-ef65-d146fcf76517"
      },
      "source": [
        "for i in country_name_list:\n",
        "  if len(success_estimates[i])>2:\n",
        "    promedio = sum(success_estimates[i])/len(success_estimates[i])\n",
        "    print(\"País: {0:s}, Estimación promedio: {1:.2f}\".format(i, promedio))\n",
        "  else:\n",
        "        print(\"País: {0:s}, *No cumple la política de la empresa*\".format(i))\n",
        "  "
      ],
      "execution_count": 43,
      "outputs": [
        {
          "output_type": "stream",
          "text": [
            "País: Australia, Estimación promedio: 0.30\n",
            "País: France, Estimación promedio: 0.66\n",
            "País: Italy, *No cumple la política de la empresa*\n",
            "País: Brazil, Estimación promedio: 0.29\n",
            "País: USA, Estimación promedio: 0.33\n",
            "País: England, *No cumple la política de la empresa*\n",
            "País: Canada, *No cumple la política de la empresa*\n",
            "País: Argentina, *No cumple la política de la empresa*\n",
            "País: Greece, Estimación promedio: 0.61\n",
            "País: Morocco, *No cumple la política de la empresa*\n",
            "País: Tunisia, *No cumple la política de la empresa*\n",
            "País: Egypt, *No cumple la política de la empresa*\n",
            "País: Jamaica, Estimación promedio: 0.66\n",
            "País: Switzerland, Estimación promedio: 0.79\n",
            "País: Germany, Estimación promedio: 0.43\n"
          ],
          "name": "stdout"
        }
      ]
    },
    {
      "cell_type": "markdown",
      "metadata": {
        "id": "j1Yj6ajOEc27"
      },
      "source": [
        "# Ejercicio 11\n",
        "¿Cuál es otro enfoque para mejorar el problema de una muestra en algunos países? Piense en términos de los factores que impulsan la confianza en las decisiones comerciales basadas en datos.\n",
        "\n",
        "(a) Agrupe los países en regiones más grandes para asegurarse de que cada región tenga al menos una estimación\n",
        "\n",
        "(b) Solo elimine un país si sus estimaciones son muy grandes o muy pequeñas en comparación con otras estimaciones.\n",
        "\n",
        "(c) Utilice una estadística de resumen diferente para el análisis que no sea el valor promedio.\n",
        "\n",
        "(d) Revise por qué algunos países solo tienen una estimación y vea si se pueden obtener más datos para estos países.\n",
        "\n"
      ]
    },
    {
      "cell_type": "markdown",
      "metadata": {
        "id": "N7FGKdDWk6rU"
      },
      "source": [
        "**respuesta : (D)**\n"
      ]
    },
    {
      "cell_type": "markdown",
      "metadata": {
        "id": "uvPF5lnWEuAy"
      },
      "source": [
        "Hemos utilizado bucles y estructuras de control para calcular estadísticas resumidas parciales para cada uno de los países. Pongamos todo junto para obtener una recomendación sobre qué país deberíamos elegir para ampliar los servicios de vuelos de lujo.\n",
        "\n",
        "# Ejercicio 12\n",
        "Escriba el código para imprimir el nombre de cada país y las estadísticas resumidas. Cada línea debe mostrar un país y las estadísticas resumidas correspondientes: Estimación mínima (flotante), Estimación promedio (flotante), Estimación máxima (flotante), Número de estimaciones (int), Cumple con la política de la empresa de al menos 3 estimaciones (bool). Por ejemplo, la línea para Francia aparecería como:\n",
        "\n",
        "```\n",
        "Country: France , Min: 0.2 , Average: 0.655 , Max: 0.98 , NumEst: 4 , MeetsPolicy: True\n",
        "```"
      ]
    },
    {
      "cell_type": "code",
      "metadata": {
        "colab": {
          "base_uri": "https://localhost:8080/"
        },
        "id": "1Xt-goPSQbok",
        "outputId": "aa34a818-3f73-436e-d338-1ac5470e0bcd"
      },
      "source": [
        "for i in country_name_list:\n",
        "    min_est = min(success_estimates[i])\n",
        "    prom_est = sum(success_estimates[i]) / len(success_estimates[i])\n",
        "    max_est = max(success_estimates[i])\n",
        "    largo_est = len(success_estimates[i])\n",
        "    cumple_politica = largo_est > 2\n",
        "    print('Pais:_',i,', Minimo:',min_est,', promedio:',prom_est,', Maximo:',max_est,', largo:',largo_est,', cumple la politica?:',cumple_politica)\n",
        "    print(\"------------------------\")"
      ],
      "execution_count": 47,
      "outputs": [
        {
          "output_type": "stream",
          "text": [
            "Pais:_ Australia , Minimo: 0.11 , promedio: 0.29500000000000004 , Maximo: 0.6 , largo: 4 , cumple la politica?: True\n",
            "------------------------\n",
            "Pais:_ France , Minimo: 0.2 , promedio: 0.655 , Maximo: 0.98 , largo: 4 , cumple la politica?: True\n",
            "------------------------\n",
            "Pais:_ Italy , Minimo: 0.6 , promedio: 0.6 , Maximo: 0.6 , largo: 1 , cumple la politica?: False\n",
            "------------------------\n",
            "Pais:_ Brazil , Minimo: 0.22 , promedio: 0.29 , Maximo: 0.43 , largo: 3 , cumple la politica?: True\n",
            "------------------------\n",
            "Pais:_ USA , Minimo: 0.2 , promedio: 0.3333333333333333 , Maximo: 0.5 , largo: 3 , cumple la politica?: True\n",
            "------------------------\n",
            "Pais:_ England , Minimo: 0.45 , promedio: 0.45 , Maximo: 0.45 , largo: 1 , cumple la politica?: False\n",
            "------------------------\n",
            "Pais:_ Canada , Minimo: 0.25 , promedio: 0.275 , Maximo: 0.3 , largo: 2 , cumple la politica?: False\n",
            "------------------------\n",
            "Pais:_ Argentina , Minimo: 0.22 , promedio: 0.22 , Maximo: 0.22 , largo: 1 , cumple la politica?: False\n",
            "------------------------\n",
            "Pais:_ Greece , Minimo: 0.15 , promedio: 0.61 , Maximo: 0.99 , largo: 6 , cumple la politica?: True\n",
            "------------------------\n",
            "Pais:_ Morocco , Minimo: 0.29 , promedio: 0.29 , Maximo: 0.29 , largo: 1 , cumple la politica?: False\n",
            "------------------------\n",
            "Pais:_ Tunisia , Minimo: 0.56 , promedio: 0.6200000000000001 , Maximo: 0.68 , largo: 2 , cumple la politica?: False\n",
            "------------------------\n",
            "Pais:_ Egypt , Minimo: 0.99 , promedio: 0.99 , Maximo: 0.99 , largo: 1 , cumple la politica?: False\n",
            "------------------------\n",
            "Pais:_ Jamaica , Minimo: 0.61 , promedio: 0.6566666666666666 , Maximo: 0.71 , largo: 3 , cumple la politica?: True\n",
            "------------------------\n",
            "Pais:_ Switzerland , Minimo: 0.51 , promedio: 0.7859999999999999 , Maximo: 0.99 , largo: 5 , cumple la politica?: True\n",
            "------------------------\n",
            "Pais:_ Germany , Minimo: 0.36 , promedio: 0.4333333333333333 , Maximo: 0.49 , largo: 3 , cumple la politica?: True\n",
            "------------------------\n"
          ],
          "name": "stdout"
        }
      ]
    },
    {
      "cell_type": "code",
      "metadata": {
        "id": "15muHDyQD9JX"
      },
      "source": [
        ""
      ],
      "execution_count": null,
      "outputs": []
    },
    {
      "cell_type": "markdown",
      "metadata": {
        "id": "tAiPYFomFDJL"
      },
      "source": [
        "# Conclusiones\n",
        "\n",
        "\n",
        "\n",
        "1.   **Suiza**  es el país con la mayor posibilidad de éxito con una tasa de éxito estimada de 0.79.(presenta mas datos que egipto)\n",
        "2.   seguir llevado seguimiento a paises como francia, jamaica y tunicia que tambien presentan una alta tasa de exito repaldada por como minimo 2 estimaciones\n",
        "\n",
        "  \n"
      ]
    }
  ]
}